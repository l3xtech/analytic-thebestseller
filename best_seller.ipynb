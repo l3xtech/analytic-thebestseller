{
 "cells": [
  {
   "cell_type": "code",
   "execution_count": 118,
   "metadata": {},
   "outputs": [
    {
     "name": "stdout",
     "output_type": "stream",
     "text": [
      "Populating the interactive namespace from numpy and matplotlib\n"
     ]
    }
   ],
   "source": [
    "# Importações\n",
    "import pandas as pd\n",
    "import numpy as np\n",
    "import matplotlib.pyplot as plt\n",
    "# Mostrar grafico dentro do notebook\n",
    "%matplotlib inline\n",
    "%pylab inline"
   ]
  },
  {
   "cell_type": "code",
   "execution_count": 97,
   "metadata": {},
   "outputs": [],
   "source": [
    "def reset_negative_values(r):\n",
    "    if (r.item() < 0).bool():\n",
    "        r = 0\n",
    "    else:\n",
    "        return r"
   ]
  },
  {
   "cell_type": "code",
   "execution_count": null,
   "metadata": {},
   "outputs": [],
   "source": []
  },
  {
   "cell_type": "code",
   "execution_count": 120,
   "metadata": {},
   "outputs": [],
   "source": [
    "# Constantes\n",
    "ano = 2012\n",
    "meta_diaria = 64.52\n",
    "meta_ate23 = 1483.87\n",
    "meta_mensal = 2000\n",
    "dias_trabalhados = 23\n",
    "dt_fds = 9\n",
    "dt_du = 14\n",
    "\n",
    "# Data Frames\n",
    "\n",
    "df = pd.read_csv('best_seller.csv', lineterminator='\\n', sep=',', encoding='utf-8')\n",
    "df_maria = df[df['Vendedor'] == 'Maria Clara']\n",
    "df_matheus = df[df['Vendedor'] == 'Matheus Garcia']\n",
    "df_pedro = df[df['Vendedor'] == 'Pedro Henrique']\n",
    "\n",
    "# Maria\n",
    "\n",
    "# Valor monetário das vendas - Venda Real\n",
    "maria_vr = df_maria['Venda - Real']\n",
    "maria_vr_total = df_maria['Venda - Real'].sum()\n",
    "# Clientes atendidos - Oportunidades Abertas\n",
    "maria_ca = df_maria['Clientes Abordados']\n",
    "maria_ca_total = df_maria['Clientes Abordados'].sum()\n",
    "# Número de vendas realizadas - Oportunidades Fechadas\n",
    "maria_vf = df_maria['Vendas Fechadas']\n",
    "maria_vf_total = df_maria['Vendas Fechadas'].sum()\n",
    "# Número de vendas perdidas - Oportunidades Perdidas\n",
    "maria_vp = maria_ca - maria_vf\n",
    "maria_vp_total = maria_ca_total - maria_vf_total\n",
    "\n",
    "maria_tc_total = maria_vf_total / maria_ca_total\n",
    "maria_tc = df_maria['Taxa de Conversão']\n",
    "maria_tc_total = df_maria['Taxa de Conversão'].sum()\n",
    "# Matheus\n",
    "\n",
    "\n",
    "# Pedro\n"
   ]
  },
  {
   "cell_type": "code",
   "execution_count": 99,
   "metadata": {
    "scrolled": true
   },
   "outputs": [
    {
     "data": {
      "text/html": [
       "<div>\n",
       "<style scoped>\n",
       "    .dataframe tbody tr th:only-of-type {\n",
       "        vertical-align: middle;\n",
       "    }\n",
       "\n",
       "    .dataframe tbody tr th {\n",
       "        vertical-align: top;\n",
       "    }\n",
       "\n",
       "    .dataframe thead th {\n",
       "        text-align: right;\n",
       "    }\n",
       "</style>\n",
       "<table border=\"1\" class=\"dataframe\">\n",
       "  <thead>\n",
       "    <tr style=\"text-align: right;\">\n",
       "      <th></th>\n",
       "      <th>Vendedor</th>\n",
       "      <th>Data</th>\n",
       "      <th>Dia da Semana</th>\n",
       "      <th>Venda - Real</th>\n",
       "      <th>Venda - Projetada</th>\n",
       "      <th>Venda – Diferença</th>\n",
       "      <th>Acumulado – Real</th>\n",
       "      <th>Acumulado – Projetado</th>\n",
       "      <th>Clientes Abordados</th>\n",
       "      <th>Vendas Fechadas</th>\n",
       "      <th>Taxa de Conversão</th>\n",
       "    </tr>\n",
       "  </thead>\n",
       "  <tbody>\n",
       "    <tr>\n",
       "      <th>0</th>\n",
       "      <td>Maria Clara</td>\n",
       "      <td>01/01/12</td>\n",
       "      <td>Domingo</td>\n",
       "      <td>124.0</td>\n",
       "      <td>64.52</td>\n",
       "      <td>59.48</td>\n",
       "      <td>124.00</td>\n",
       "      <td>64.52</td>\n",
       "      <td>8</td>\n",
       "      <td>9</td>\n",
       "      <td>112.50%</td>\n",
       "    </tr>\n",
       "    <tr>\n",
       "      <th>1</th>\n",
       "      <td>Maria Clara</td>\n",
       "      <td>02/01/12</td>\n",
       "      <td>Segunda</td>\n",
       "      <td>30.0</td>\n",
       "      <td>64.52</td>\n",
       "      <td>-34.52</td>\n",
       "      <td>154.00</td>\n",
       "      <td>129.03</td>\n",
       "      <td>8</td>\n",
       "      <td>3</td>\n",
       "      <td>37.50%</td>\n",
       "    </tr>\n",
       "    <tr>\n",
       "      <th>2</th>\n",
       "      <td>Maria Clara</td>\n",
       "      <td>03/01/12</td>\n",
       "      <td>Terça</td>\n",
       "      <td>80.0</td>\n",
       "      <td>64.52</td>\n",
       "      <td>15.48</td>\n",
       "      <td>234.00</td>\n",
       "      <td>193.55</td>\n",
       "      <td>6</td>\n",
       "      <td>3</td>\n",
       "      <td>50.00%</td>\n",
       "    </tr>\n",
       "    <tr>\n",
       "      <th>3</th>\n",
       "      <td>Maria Clara</td>\n",
       "      <td>04/01/12</td>\n",
       "      <td>Quarta</td>\n",
       "      <td>90.0</td>\n",
       "      <td>64.52</td>\n",
       "      <td>25.48</td>\n",
       "      <td>324.00</td>\n",
       "      <td>258.06</td>\n",
       "      <td>4</td>\n",
       "      <td>4</td>\n",
       "      <td>100.00%</td>\n",
       "    </tr>\n",
       "    <tr>\n",
       "      <th>4</th>\n",
       "      <td>Maria Clara</td>\n",
       "      <td>05/01/12</td>\n",
       "      <td>Quinta</td>\n",
       "      <td>20.0</td>\n",
       "      <td>64.52</td>\n",
       "      <td>-44.52</td>\n",
       "      <td>344.00</td>\n",
       "      <td>322.58</td>\n",
       "      <td>3</td>\n",
       "      <td>7</td>\n",
       "      <td>233.33%</td>\n",
       "    </tr>\n",
       "  </tbody>\n",
       "</table>\n",
       "</div>"
      ],
      "text/plain": [
       "      Vendedor      Data Dia da Semana  Venda - Real  Venda - Projetada  \\\n",
       "0  Maria Clara  01/01/12       Domingo         124.0              64.52   \n",
       "1  Maria Clara  02/01/12       Segunda          30.0              64.52   \n",
       "2  Maria Clara  03/01/12         Terça          80.0              64.52   \n",
       "3  Maria Clara  04/01/12        Quarta          90.0              64.52   \n",
       "4  Maria Clara  05/01/12        Quinta          20.0              64.52   \n",
       "\n",
       "   Venda – Diferença Acumulado – Real Acumulado – Projetado  \\\n",
       "0              59.48           124.00                 64.52   \n",
       "1             -34.52           154.00                129.03   \n",
       "2              15.48           234.00                193.55   \n",
       "3              25.48           324.00                258.06   \n",
       "4             -44.52           344.00                322.58   \n",
       "\n",
       "   Clientes Abordados  Vendas Fechadas Taxa de Conversão  \n",
       "0                   8                9           112.50%  \n",
       "1                   8                3            37.50%  \n",
       "2                   6                3            50.00%  \n",
       "3                   4                4           100.00%  \n",
       "4                   3                7           233.33%  "
      ]
     },
     "execution_count": 99,
     "metadata": {},
     "output_type": "execute_result"
    }
   ],
   "source": [
    "df_maria.head(5)"
   ]
  },
  {
   "cell_type": "code",
   "execution_count": 100,
   "metadata": {
    "scrolled": true
   },
   "outputs": [
    {
     "data": {
      "image/png": "[encoded data removed]",
      "text/plain": [
       "<Figure size 432x288 with 1 Axes>"
      ]
     },
     "metadata": {
      "needs_background": "light"
     },
     "output_type": "display_data"
    }
   ],
   "source": [
    "texto = {\n",
    "    'Venda Real': maria_vr_total, \n",
    "    'Clientes Atendidos': maria_ca_total, \n",
    "    'Vendas Fechadas': maria_vf_total, \n",
    "    'Taxa de Conversão': maria_tc_total\n",
    "}\n",
    "plt.bar(texto.keys(), texto.values())\n",
    "plt.show()"
   ]
  },
  {
   "cell_type": "code",
   "execution_count": 116,
   "metadata": {},
   "outputs": [
    {
     "data": {
      "text/plain": [
       "0     124.00\n",
       "1      30.00\n",
       "2      80.00\n",
       "3      90.00\n",
       "4      20.00\n",
       "5     200.00\n",
       "6     407.00\n",
       "7      12.00\n",
       "8      67.00\n",
       "9      45.52\n",
       "10     80.00\n",
       "11     70.00\n",
       "12     50.00\n",
       "13     90.00\n",
       "14     80.00\n",
       "15     30.00\n",
       "16     80.00\n",
       "17     90.00\n",
       "18     20.00\n",
       "19    312.00\n",
       "20    208.00\n",
       "21    249.00\n",
       "22    105.00\n",
       "Name: Venda - Real, dtype: float64"
      ]
     },
     "execution_count": 116,
     "metadata": {},
     "output_type": "execute_result"
    }
   ],
   "source": [
    "maria_vr = df_maria['Venda - Real']\n",
    "maria_vr"
   ]
  },
  {
   "cell_type": "code",
   "execution_count": 117,
   "metadata": {},
   "outputs": [
    {
     "data": {
      "text/plain": [
       "0      True\n",
       "1     False\n",
       "2     False\n",
       "3     False\n",
       "4      True\n",
       "5     False\n",
       "6      True\n",
       "7     False\n",
       "8     False\n",
       "9      True\n",
       "10     True\n",
       "11    False\n",
       "12    False\n",
       "13     True\n",
       "14     True\n",
       "15    False\n",
       "16     True\n",
       "17    False\n",
       "18    False\n",
       "19    False\n",
       "20    False\n",
       "21    False\n",
       "22    False\n",
       "dtype: bool"
      ]
     },
     "execution_count": 117,
     "metadata": {},
     "output_type": "execute_result"
    }
   ],
   "source": [
    "vpb = maria_vp < 0\n",
    "vpb"
   ]
  },
  {
   "cell_type": "code",
   "execution_count": 119,
   "metadata": {},
   "outputs": [
    {
     "data": {
      "text/plain": [
       "0    -1\n",
       "1     5\n",
       "2     3\n",
       "3     0\n",
       "4    -4\n",
       "5     2\n",
       "6    -2\n",
       "7     2\n",
       "8     0\n",
       "9    -1\n",
       "10   -3\n",
       "11    4\n",
       "12    0\n",
       "13   -1\n",
       "14   -3\n",
       "15    4\n",
       "16   -1\n",
       "17    0\n",
       "18    1\n",
       "19    4\n",
       "20    0\n",
       "21    2\n",
       "22    0\n",
       "dtype: int64"
      ]
     },
     "execution_count": 119,
     "metadata": {},
     "output_type": "execute_result"
    }
   ],
   "source": [
    "maria_vp"
   ]
  },
  {
   "cell_type": "code",
   "execution_count": 122,
   "metadata": {},
   "outputs": [
    {
     "data": {
      "text/plain": [
       "<matplotlib.axes._subplots.AxesSubplot at 0x7f6f8cb64128>"
      ]
     },
     "execution_count": 122,
     "metadata": {},
     "output_type": "execute_result"
    },
    {
     "data": {
      "image/png": "[encoded data removed]",
      "text/plain": [
       "<Figure size 432x288 with 1 Axes>"
      ]
     },
     "metadata": {
      "needs_background": "light"
     },
     "output_type": "display_data"
    }
   ],
   "source": [
    "maria_tc.value_counts().plot.bar()"
   ]
  },
  {
   "cell_type": "code",
   "execution_count": null,
   "metadata": {},
   "outputs": [],
   "source": []
  }
 ],
 "metadata": {
  "kernelspec": {
   "display_name": "Python 3",
   "language": "python",
   "name": "python3"
  },
  "language_info": {
   "codemirror_mode": {
    "name": "ipython",
    "version": 3
   },
   "file_extension": ".py",
   "mimetype": "text/x-python",
   "name": "python",
   "nbconvert_exporter": "python",
   "pygments_lexer": "ipython3",
   "version": "3.7.3"
  }
 },
 "nbformat": 4,
 "nbformat_minor": 2
}
