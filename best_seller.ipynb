{
 "cells": [
  {
   "cell_type": "code",
   "execution_count": 25,
   "metadata": {},
   "outputs": [
    {
     "name": "stdout",
     "output_type": "stream",
     "text": [
      "Populating the interactive namespace from numpy and matplotlib\n"
     ]
    }
   ],
   "source": [
    "# Importações\n",
    "import pandas as pd\n",
    "import numpy as np\n",
    "import matplotlib.pyplot as plt\n",
    "# Mostrar grafico dentro do notebook\n",
    "%matplotlib inline\n",
    "%pylab inline"
   ]
  },
  {
   "cell_type": "code",
   "execution_count": 26,
   "metadata": {},
   "outputs": [],
   "source": [
    "def reset_negative_values(r):\n",
    "    if (r.item() < 0).bool():\n",
    "        r = 0\n",
    "    else:\n",
    "        return r"
   ]
  },
  {
   "cell_type": "code",
   "execution_count": null,
   "metadata": {},
   "outputs": [],
   "source": []
  },
  {
   "cell_type": "code",
   "execution_count": 27,
   "metadata": {},
   "outputs": [],
   "source": [
    "# Constantes\n",
    "ano = 2012\n",
    "meta_diaria = 64.52\n",
    "meta_ate23 = 1483.87\n",
    "meta_mensal = 2000\n",
    "dias_trabalhados = 23\n",
    "dt_fds = 9\n",
    "dt_du = 14\n",
    "\n",
    "# Data Frames\n",
    "\n",
    "df = pd.read_csv('best_seller_us.csv', lineterminator='\\n', sep=';', encoding='utf-8')\n",
    "df_maria = df[df['Vendedor'] == 'Maria Clara']\n",
    "df_matheus = df[df['Vendedor'] == 'Matheus Garcia']\n",
    "df_pedro = df[df['Vendedor'] == 'Pedro Henrique']\n",
    "\n",
    "# Maria\n",
    "\n",
    "# Valor monetário das vendas - Venda Real\n",
    "maria_vr = df_maria['Venda - Real']\n",
    "maria_vr_total = df_maria['Venda - Real'].sum()\n",
    "# Clientes atendidos - Oportunidades Abertas\n",
    "maria_ca = df_maria['Clientes Abordados']\n",
    "maria_ca_total = df_maria['Clientes Abordados'].sum()\n",
    "# Número de vendas realizadas - Oportunidades Fechadas\n",
    "maria_vf = df_maria['Vendas Fechadas']\n",
    "maria_vf_total = df_maria['Vendas Fechadas'].sum()\n",
    "# Número de vendas perdidas - Oportunidades Perdidas\n",
    "maria_vp = maria_ca - maria_vf\n",
    "maria_vp_total = maria_ca_total - maria_vf_total\n",
    "\n",
    "\n",
    "maria_tc = df_maria['Taxa de Conversão Percentual']\n",
    "maria_tc_total = df_maria['Taxa de Conversão Percentual'].sum()\n",
    "maria_tc_total = maria_vf_total / maria_ca_total\n",
    "# Matheus\n",
    "\n",
    "\n",
    "# Pedro\n"
   ]
  },
  {
   "cell_type": "code",
   "execution_count": 28,
   "metadata": {
    "scrolled": true
   },
   "outputs": [
    {
     "data": {
      "text/html": [
       "<div>\n",
       "<style scoped>\n",
       "    .dataframe tbody tr th:only-of-type {\n",
       "        vertical-align: middle;\n",
       "    }\n",
       "\n",
       "    .dataframe tbody tr th {\n",
       "        vertical-align: top;\n",
       "    }\n",
       "\n",
       "    .dataframe thead th {\n",
       "        text-align: right;\n",
       "    }\n",
       "</style>\n",
       "<table border=\"1\" class=\"dataframe\">\n",
       "  <thead>\n",
       "    <tr style=\"text-align: right;\">\n",
       "      <th></th>\n",
       "      <th>Vendedor</th>\n",
       "      <th>Data</th>\n",
       "      <th>Dia em Número</th>\n",
       "      <th>Dia da Semana</th>\n",
       "      <th>FDS ou DU</th>\n",
       "      <th>Venda - Real</th>\n",
       "      <th>Venda - Projetada</th>\n",
       "      <th>Venda – Diferença</th>\n",
       "      <th>Venda – Bateu Meta</th>\n",
       "      <th>Acumulado – Real</th>\n",
       "      <th>...</th>\n",
       "      <th>Clientes Abordados</th>\n",
       "      <th>Vendas Fechadas</th>\n",
       "      <th>CA – VF</th>\n",
       "      <th>Vendas Perdidas</th>\n",
       "      <th>Taxa de Conversão Percentual</th>\n",
       "      <th>Taxa de Conversão Percentual.1</th>\n",
       "      <th>Média da Taxa de Conversão Percentual</th>\n",
       "      <th>Média da Taxa de Conversão Decimal</th>\n",
       "      <th>Tendência Linear Monetária</th>\n",
       "      <th>Tendência Sazonal Monetária</th>\n",
       "    </tr>\n",
       "  </thead>\n",
       "  <tbody>\n",
       "    <tr>\n",
       "      <th>0</th>\n",
       "      <td>Maria Clara</td>\n",
       "      <td>01/01/12</td>\n",
       "      <td>1</td>\n",
       "      <td>Domingo</td>\n",
       "      <td>FDS</td>\n",
       "      <td>124.0</td>\n",
       "      <td>64.52</td>\n",
       "      <td>59.48</td>\n",
       "      <td>sim</td>\n",
       "      <td>124.0</td>\n",
       "      <td>...</td>\n",
       "      <td>8</td>\n",
       "      <td>9</td>\n",
       "      <td>-1</td>\n",
       "      <td>0</td>\n",
       "      <td>112.50%</td>\n",
       "      <td>1.1250</td>\n",
       "      <td>112.50%</td>\n",
       "      <td>1.125000</td>\n",
       "      <td>80.153478</td>\n",
       "      <td>84.390106</td>\n",
       "    </tr>\n",
       "    <tr>\n",
       "      <th>1</th>\n",
       "      <td>Maria Clara</td>\n",
       "      <td>02/01/12</td>\n",
       "      <td>2</td>\n",
       "      <td>Segunda</td>\n",
       "      <td>DU</td>\n",
       "      <td>30.0</td>\n",
       "      <td>64.52</td>\n",
       "      <td>-34.52</td>\n",
       "      <td>não</td>\n",
       "      <td>154.0</td>\n",
       "      <td>...</td>\n",
       "      <td>8</td>\n",
       "      <td>3</td>\n",
       "      <td>5</td>\n",
       "      <td>5</td>\n",
       "      <td>37.50%</td>\n",
       "      <td>0.3750</td>\n",
       "      <td>75.00%</td>\n",
       "      <td>0.750000</td>\n",
       "      <td>82.904427</td>\n",
       "      <td>43.549374</td>\n",
       "    </tr>\n",
       "    <tr>\n",
       "      <th>2</th>\n",
       "      <td>Maria Clara</td>\n",
       "      <td>03/01/12</td>\n",
       "      <td>3</td>\n",
       "      <td>Terça</td>\n",
       "      <td>DU</td>\n",
       "      <td>80.0</td>\n",
       "      <td>64.52</td>\n",
       "      <td>15.48</td>\n",
       "      <td>sim</td>\n",
       "      <td>234.0</td>\n",
       "      <td>...</td>\n",
       "      <td>6</td>\n",
       "      <td>3</td>\n",
       "      <td>3</td>\n",
       "      <td>3</td>\n",
       "      <td>50.00%</td>\n",
       "      <td>0.5000</td>\n",
       "      <td>66.67%</td>\n",
       "      <td>0.666667</td>\n",
       "      <td>85.655375</td>\n",
       "      <td>53.145153</td>\n",
       "    </tr>\n",
       "    <tr>\n",
       "      <th>3</th>\n",
       "      <td>Maria Clara</td>\n",
       "      <td>04/01/12</td>\n",
       "      <td>4</td>\n",
       "      <td>Quarta</td>\n",
       "      <td>DU</td>\n",
       "      <td>90.0</td>\n",
       "      <td>64.52</td>\n",
       "      <td>25.48</td>\n",
       "      <td>sim</td>\n",
       "      <td>324.0</td>\n",
       "      <td>...</td>\n",
       "      <td>4</td>\n",
       "      <td>4</td>\n",
       "      <td>0</td>\n",
       "      <td>0</td>\n",
       "      <td>100.00%</td>\n",
       "      <td>1.0000</td>\n",
       "      <td>75.00%</td>\n",
       "      <td>0.750000</td>\n",
       "      <td>88.406324</td>\n",
       "      <td>69.392355</td>\n",
       "    </tr>\n",
       "    <tr>\n",
       "      <th>4</th>\n",
       "      <td>Maria Clara</td>\n",
       "      <td>05/01/12</td>\n",
       "      <td>5</td>\n",
       "      <td>Quinta</td>\n",
       "      <td>DU</td>\n",
       "      <td>20.0</td>\n",
       "      <td>64.52</td>\n",
       "      <td>-44.52</td>\n",
       "      <td>não</td>\n",
       "      <td>344.0</td>\n",
       "      <td>...</td>\n",
       "      <td>3</td>\n",
       "      <td>7</td>\n",
       "      <td>-4</td>\n",
       "      <td>0</td>\n",
       "      <td>233.33%</td>\n",
       "      <td>2.3333</td>\n",
       "      <td>106.67%</td>\n",
       "      <td>1.066667</td>\n",
       "      <td>91.157273</td>\n",
       "      <td>30.271849</td>\n",
       "    </tr>\n",
       "  </tbody>\n",
       "</table>\n",
       "<p>5 rows × 21 columns</p>\n",
       "</div>"
      ],
      "text/plain": [
       "      Vendedor      Data  Dia em Número Dia da Semana FDS ou DU  Venda - Real  \\\n",
       "0  Maria Clara  01/01/12              1       Domingo       FDS         124.0   \n",
       "1  Maria Clara  02/01/12              2       Segunda        DU          30.0   \n",
       "2  Maria Clara  03/01/12              3         Terça        DU          80.0   \n",
       "3  Maria Clara  04/01/12              4        Quarta        DU          90.0   \n",
       "4  Maria Clara  05/01/12              5        Quinta        DU          20.0   \n",
       "\n",
       "   Venda - Projetada  Venda – Diferença Venda – Bateu Meta  Acumulado – Real  \\\n",
       "0              64.52              59.48                sim             124.0   \n",
       "1              64.52             -34.52                não             154.0   \n",
       "2              64.52              15.48                sim             234.0   \n",
       "3              64.52              25.48                sim             324.0   \n",
       "4              64.52             -44.52                não             344.0   \n",
       "\n",
       "   ...  Clientes Abordados  Vendas Fechadas  CA – VF  Vendas Perdidas  \\\n",
       "0  ...                   8                9       -1                0   \n",
       "1  ...                   8                3        5                5   \n",
       "2  ...                   6                3        3                3   \n",
       "3  ...                   4                4        0                0   \n",
       "4  ...                   3                7       -4                0   \n",
       "\n",
       "   Taxa de Conversão Percentual Taxa de Conversão Percentual.1  \\\n",
       "0                       112.50%                         1.1250   \n",
       "1                        37.50%                         0.3750   \n",
       "2                        50.00%                         0.5000   \n",
       "3                       100.00%                         1.0000   \n",
       "4                       233.33%                         2.3333   \n",
       "\n",
       "   Média da Taxa de Conversão Percentual Média da Taxa de Conversão Decimal  \\\n",
       "0                                112.50%                           1.125000   \n",
       "1                                 75.00%                           0.750000   \n",
       "2                                 66.67%                           0.666667   \n",
       "3                                 75.00%                           0.750000   \n",
       "4                                106.67%                           1.066667   \n",
       "\n",
       "   Tendência Linear Monetária  Tendência Sazonal Monetária  \n",
       "0                   80.153478                    84.390106  \n",
       "1                   82.904427                    43.549374  \n",
       "2                   85.655375                    53.145153  \n",
       "3                   88.406324                    69.392355  \n",
       "4                   91.157273                    30.271849  \n",
       "\n",
       "[5 rows x 21 columns]"
      ]
     },
     "execution_count": 28,
     "metadata": {},
     "output_type": "execute_result"
    }
   ],
   "source": [
    "df_maria.head(5)"
   ]
  },
  {
   "cell_type": "code",
   "execution_count": 34,
   "metadata": {},
   "outputs": [
    {
     "data": {
      "text/plain": [
       "2539.52"
      ]
     },
     "execution_count": 34,
     "metadata": {},
     "output_type": "execute_result"
    }
   ],
   "source": [
    "maria_vr_total"
   ]
  },
  {
   "cell_type": "code",
   "execution_count": 31,
   "metadata": {},
   "outputs": [
    {
     "data": {
      "text/plain": [
       "0      True\n",
       "1     False\n",
       "2     False\n",
       "3     False\n",
       "4      True\n",
       "5     False\n",
       "6      True\n",
       "7     False\n",
       "8     False\n",
       "9      True\n",
       "10     True\n",
       "11    False\n",
       "12    False\n",
       "13     True\n",
       "14     True\n",
       "15    False\n",
       "16     True\n",
       "17    False\n",
       "18    False\n",
       "19    False\n",
       "20    False\n",
       "21    False\n",
       "22    False\n",
       "dtype: bool"
      ]
     },
     "execution_count": 31,
     "metadata": {},
     "output_type": "execute_result"
    }
   ],
   "source": [
    "vpb = maria_vp < 0\n",
    "vpb"
   ]
  },
  {
   "cell_type": "code",
   "execution_count": 32,
   "metadata": {},
   "outputs": [
    {
     "data": {
      "text/plain": [
       "0    -1\n",
       "1     5\n",
       "2     3\n",
       "3     0\n",
       "4    -4\n",
       "5     2\n",
       "6    -2\n",
       "7     2\n",
       "8     0\n",
       "9    -1\n",
       "10   -3\n",
       "11    4\n",
       "12    0\n",
       "13   -1\n",
       "14   -3\n",
       "15    4\n",
       "16   -1\n",
       "17    0\n",
       "18    1\n",
       "19    4\n",
       "20    0\n",
       "21    2\n",
       "22    0\n",
       "dtype: int64"
      ]
     },
     "execution_count": 32,
     "metadata": {},
     "output_type": "execute_result"
    }
   ],
   "source": [
    "maria_vp"
   ]
  },
  {
   "cell_type": "code",
   "execution_count": 33,
   "metadata": {},
   "outputs": [
    {
     "data": {
      "text/plain": [
       "<matplotlib.axes._subplots.AxesSubplot at 0x7f0dcc27bcc0>"
      ]
     },
     "execution_count": 33,
     "metadata": {},
     "output_type": "execute_result"
    },
    {
     "data": {
      "image/png": "[encoded data removed]",
      "text/plain": [
       "<Figure size 432x288 with 1 Axes>"
      ]
     },
     "metadata": {
      "needs_background": "light"
     },
     "output_type": "display_data"
    }
   ],
   "source": [
    "maria_vr.value_counts().plot.line()"
   ]
  },
  {
   "cell_type": "code",
   "execution_count": null,
   "metadata": {},
   "outputs": [],
   "source": []
  },
  {
   "cell_type": "code",
   "execution_count": null,
   "metadata": {},
   "outputs": [],
   "source": []
  }
 ],
 "metadata": {
  "kernelspec": {
   "display_name": "Python 3",
   "language": "python",
   "name": "python3"
  },
  "language_info": {
   "codemirror_mode": {
    "name": "ipython",
    "version": 3
   },
   "file_extension": ".py",
   "mimetype": "text/x-python",
   "name": "python",
   "nbconvert_exporter": "python",
   "pygments_lexer": "ipython3",
   "version": "3.7.3"
  }
 },
 "nbformat": 4,
 "nbformat_minor": 2
}
